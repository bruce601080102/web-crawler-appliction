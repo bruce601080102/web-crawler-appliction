{
 "cells": [
  {
   "cell_type": "code",
   "execution_count": 2,
   "metadata": {
    "collapsed": true
   },
   "outputs": [],
   "source": [
    "import re\n",
    "from gtts import gTTS\n",
    "import os\n",
    "from bs4 import BeautifulSoup\n",
    "import requests\n",
    "from hanziconv import HanziConv\n",
    "\n",
    "def bot_get_wiki(keyword):\n",
    "    response = requests.get('https://zh.wikipedia.org/zh-tw/' + keyword)\n",
    "    bs = BeautifulSoup(response.text, 'lxml')\n",
    "    p_list = bs.find_all('p')\n",
    "    for p in p_list:\n",
    "        if keyword in p.text[0:10]:\n",
    "            return p.text\n",
    "\n",
    "# 唸出常規表達式處理後的字串\n",
    "\n",
    "def bot_speak_re(sentence):\n",
    "    s1 = re.sub(r'\\[[^\\]]*\\]', '', sentence)\n",
    "\n",
    "    return s1\n",
    "\n",
    "# 對 Google 搜尋結果進行網路爬蟲\n",
    "\n",
    "\n",
    "def bot_get_google(question):\n",
    "    url = 'https://www.google.com.tw/search?q={' + question + '}+維基百科'\n",
    "    #print(url)\n",
    "    headers = {'User-Agent': 'Mozilla/5.0 (Windows NT 10.0; Win64; x64)'\n",
    "                             ' AppleWebKit/537.36 (KHTML, like Gecko)'\n",
    "                             ' Chrome/70.0.3538.102 Safari/537.36'}\n",
    "    response = requests.get(url, headers=headers)\n",
    "    if response.status_code == 200:\n",
    "        bs = BeautifulSoup(response.text, 'lxml')\n",
    "        wiki_url = bs.find('cite')\n",
    "        # kwd = wiki_url.text.split('/')[-1]\n",
    "        kwd = wiki_url.text.split('›')[-1].replace(' ','')      # 修正\n",
    "        keyword_trad = HanziConv.toTraditional(kwd)\n",
    "        return keyword_trad\n",
    "    else:\n",
    "        print('請求失敗')\n",
    "\n"
   ]
  },
  {
   "cell_type": "code",
   "execution_count": 3,
   "metadata": {},
   "outputs": [
    {
     "name": "stdout",
     "output_type": "stream",
     "text": [
      "請輸入104\n",
      "104\n",
      "104人力銀行是台灣的網路人力銀行，1996年由楊基寬成立，2006年以「一零四資訊科技股份有限公司」名稱股票上市，是台灣第一家上市的網路科技公司（英語：Dot-com company）。\n",
      "\n",
      "還有問題要問嗎?\n"
     ]
    }
   ],
   "source": [
    "#from data.chatBot_module import *\n",
    "question = ''\n",
    "answer = ''\n",
    "QA = {'你是誰' : '我叫蔡仁豪，是一位碩士準畢業生,這是我的作品, https://github.com/bruce601080102'}\n",
    "\n",
    "\n",
    "\n",
    "\n",
    "text=input('請輸入')\n",
    "question = text       \n",
    "print(question)\n",
    "if question in QA:               # 如果問題存於 QA 字典中\n",
    "    answer = QA[question]        # 取出問題的答案\n",
    "    #m.bot_speak(answer, 'zh-tw') # 唸出答案\n",
    "    print(answer)\n",
    "else:                            # 問題不存於 QA 字典中, 進行網路爬蟲\n",
    "    keyword = bot_get_google(question)\n",
    "    content = bot_get_wiki(keyword)\n",
    "    content = bot_speak_re(content)\n",
    "    if content != None:\n",
    "        print(content)\n",
    "        print('還有問題要問嗎?')\n",
    "    else:\n",
    "        print('找不到相關的維基百科資料')"
   ]
  },
  {
   "cell_type": "code",
   "execution_count": null,
   "metadata": {
    "collapsed": true
   },
   "outputs": [],
   "source": []
  }
 ],
 "metadata": {
  "kernelspec": {
   "display_name": "Python 3",
   "language": "python",
   "name": "python3"
  },
  "language_info": {
   "codemirror_mode": {
    "name": "ipython",
    "version": 3
   },
   "file_extension": ".py",
   "mimetype": "text/x-python",
   "name": "python",
   "nbconvert_exporter": "python",
   "pygments_lexer": "ipython3",
   "version": "3.5.3"
  }
 },
 "nbformat": 4,
 "nbformat_minor": 4
}
